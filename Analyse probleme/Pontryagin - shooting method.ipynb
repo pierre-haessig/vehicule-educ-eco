{
 "metadata": {
  "name": "Pontryagin - shooting method"
 },
 "nbformat": 3,
 "nbformat_minor": 0,
 "worksheets": [
  {
   "cells": [
    {
     "cell_type": "heading",
     "level": 1,
     "metadata": {},
     "source": [
      "Contr\u00f4le optimal du v\u00e9hicule Educ Eco"
     ]
    },
    {
     "cell_type": "markdown",
     "metadata": {},
     "source": [
      "R\u00e9solution des \u00e9quations diff\u00e9rentielles de la trajectoire optimale obtenue par le principe du minimum de Pontryagin.\n",
      "\n",
      "Difficult\u00e9 : ces \u00e9qua-diff sont donn\u00e9es avec des conditions aux limites \u00e0 la fois initiales et terminales.\n",
      "\n",
      "Pierre Haessig - 13 d\u00e9cembre 2012"
     ]
    },
    {
     "cell_type": "code",
     "collapsed": false,
     "input": [
      "import numpy as np\n",
      "from scipy.integrate import ode\n",
      "from IPython.core.display import display_latex"
     ],
     "language": "python",
     "metadata": {},
     "outputs": [],
     "prompt_number": 25
    },
    {
     "cell_type": "heading",
     "level": 3,
     "metadata": {},
     "source": [
      "Description du mod\u00e8le"
     ]
    },
    {
     "cell_type": "code",
     "collapsed": false,
     "input": [
      "###  Param\u00e8tres du v\u00e9hicule \u00c9duc-\u00c9co\n",
      "\n",
      "# Poids\n",
      "m = 200 # masse [kg]\n",
      "g = 9.81 # acc\u00e9l\u00e9ration de la pesanteur [m/s\u00b2]\n",
      "# Frottement des pneus en N\n",
      "Cpr = 0.015 # coeff de frottement des pneus\n",
      "fr = m*g*Cpr # force de frottement [N]\n",
      "# Frottement a\u00e9rodynamique\n",
      "S = 1.05 # [m\u00b2]\n",
      "Cx = 0.5 # +/- 0.1 [N/...]\n",
      "c = 0.5*1*S*Cx # coeff. de frottement a\u00e9rodyn [N/(m/s)\u00b2]\n",
      "# a: coeff de perte moteur: en W/N\u00b2\n",
      "a = 100./50**2 # [W/N\u00b2] (100 W perdus \u00e0 50 N)"
     ],
     "language": "python",
     "metadata": {},
     "outputs": [],
     "prompt_number": 227
    },
    {
     "cell_type": "code",
     "collapsed": false,
     "input": [
      "### Param\u00e8tres de la course\n",
      "\n",
      "# Longueur d'un tour de piste\n",
      "L = 3636.0 # [m]\n",
      "# Vitesse moyenne minimale (30 km/h)\n",
      "v_min = 30/3.6 # [m/s]\n",
      "# Temps de parcours max d'un tour\n",
      "T_max = L/v_min\n",
      "print('Temps max. par tour : %.0f s (%d\\'%.0f\")' % \n",
      "      (T_max, T_max//60, T_max%60))"
     ],
     "language": "python",
     "metadata": {},
     "outputs": [
      {
       "output_type": "stream",
       "stream": "stdout",
       "text": [
        "Temps max. par tour : 436 s (7'16\")\n"
       ]
      }
     ],
     "prompt_number": 229
    },
    {
     "cell_type": "code",
     "collapsed": false,
     "input": [
      "# \u00c9tat initial:\n",
      "t0 = 0 # [s]\n",
      "v0 = 0 # [m/s]\n",
      "l0 = 0 # [m]\n",
      "# devinette de l'\u00e9tat initial des \u00e9tats adjoints\n",
      "p1_ini = -1e3 # [kg.m/s]\n",
      "p2_ini = -50 # [N]\n",
      "y0 = [v0, l0, p1_ini, p2_ini]\n",
      "print('\u00e9tat ini. y0 = %s' % y0)"
     ],
     "language": "python",
     "metadata": {},
     "outputs": [
      {
       "output_type": "stream",
       "stream": "stdout",
       "text": [
        "\u00e9tat ini. y0 = [0, 0, -1000.0, -50]\n"
       ]
      }
     ],
     "prompt_number": 231
    },
    {
     "cell_type": "code",
     "collapsed": false,
     "input": [
      "# Description de l'\u00e9qua-diff\n",
      "def f(t,y):\n",
      "    '''\u00e9volution dy/dt = f(t,y)'''\n",
      "    # S\u00e9paration des composantes du vecteur d'\u00e9tat\n",
      "    v,x,p1,p2 = y\n",
      "    # pente\n",
      "    s = 0\n",
      "    dsdl = 0\n",
      "    # force motrice optimale\n",
      "    f_mot = -(m*v + p1)/(2*a*m)\n",
      "    # Calcul des d\u00e9riv\u00e9s\n",
      "    dvdt = (-c*v**2 - fr*np.sign(v) + f_mot - g*m*s)/m\n",
      "    dxdt = v\n",
      "    dp1dt = 2*c*p1*v/m - f_mot - p2\n",
      "    dp2dt = g*p1*dsdl\n",
      "    \n",
      "    dydt = [dvdt, dxdt, dp1dt, dp2dt]\n",
      "    return dydt\n",
      "\n",
      "# Test de la d\u00e9riv\u00e9e \u00e0 l'\u00e9tat initial:\n",
      "print('pour y0 = %s, on a:' % y0)\n",
      "f0 = f(t0, y0)\n",
      "for i,yi in enumerate(['v', 'x', 'p_1', 'p_2']):\n",
      "    display_latex(r'$$\\frac{d%s}{dt}(0) = %f$$' % (yi, f0[i]), raw=True)"
     ],
     "language": "python",
     "metadata": {},
     "outputs": [
      {
       "output_type": "stream",
       "stream": "stdout",
       "text": [
        "pour y0 = [0, 0, -1000.0, -50], on a:\n"
       ]
      },
      {
       "latex": [
        "$$\\frac{dv}{dt}(0) = 0.312500$$"
       ],
       "output_type": "display_data"
      },
      {
       "latex": [
        "$$\\frac{dx}{dt}(0) = 0.000000$$"
       ],
       "output_type": "display_data"
      },
      {
       "latex": [
        "$$\\frac{dp_1}{dt}(0) = -12.500000$$"
       ],
       "output_type": "display_data"
      },
      {
       "latex": [
        "$$\\frac{dp_2}{dt}(0) = -0.000000$$"
       ],
       "output_type": "display_data"
      }
     ],
     "prompt_number": 232
    },
    {
     "cell_type": "heading",
     "level": 3,
     "metadata": {},
     "source": [
      "Int\u00e9gration"
     ]
    },
    {
     "cell_type": "code",
     "collapsed": false,
     "input": [
      "# Int\u00e9grateur:\n",
      "r = ode(f)\n",
      "r.set_integrator('vode', method='BDF')"
     ],
     "language": "python",
     "metadata": {},
     "outputs": [
      {
       "output_type": "pyout",
       "prompt_number": 216,
       "text": [
        "<scipy.integrate._ode.ode at 0xe077050>"
       ]
      }
     ],
     "prompt_number": 216
    },
    {
     "cell_type": "code",
     "collapsed": false,
     "input": [
      "# Pas de discr\u00e9tisation\n",
      "N = 10\n",
      "#T = T_max\n",
      "T = 100 # [s]\n",
      "# Vecteur temps:\n",
      "t = np.linspace(t0, T, N+1)\n",
      "dt = t[1] - t[0]\n",
      "print('N=%d pts -> pas de temps %.1f s' % (N, dt))\n",
      "print('t=%s (s)' % t)\n",
      "\n",
      "# Solution de l'ODE:\n",
      "y = np.zeros((N+1,4))*np.nan\n",
      "y[0] = y0\n",
      "\n",
      "i=0\n",
      "r.set_initial_value(y0, t0)\n",
      "print('Int\u00e9gration...')\n",
      "while r.t < T and i<=N-1:\n",
      "    #print(i, r.t)\n",
      "    i = i+1\n",
      "    r.integrate(r.t+dt)\n",
      "    if not r.successful():\n",
      "        break\n",
      "    y[i] = r.y\n",
      "    imax = i\n",
      "\n",
      "print(u'Succ\u00e8s de l\\'int\u00e9gration: %s' % r.successful())\n",
      "print('dernier pas r\u00e9ussi: %d/%d' % (imax, N))\n",
      "\n",
      "#print(y)"
     ],
     "language": "python",
     "metadata": {},
     "outputs": [
      {
       "output_type": "stream",
       "stream": "stdout",
       "text": [
        "N=10 pts -> pas de temps 10.0 s\n",
        "t=[   0.   10.   20.   30.   40.   50.   60.   70.   80.   90.  100.] (s)\n",
        "Int\u00e9gration...\n",
        "Succ\u00e8s de l'int\u00e9gration: False\n",
        "dernier pas r\u00e9ussi: 6/10\n"
       ]
      }
     ],
     "prompt_number": 242
    },
    {
     "cell_type": "heading",
     "level": 3,
     "metadata": {},
     "source": [
      "Trac\u00e9 de trajectoire"
     ]
    },
    {
     "cell_type": "code",
     "collapsed": false,
     "input": [
      "figure('trajectoire', figsize=(10,10))\n",
      "\n",
      "subplot(411, ylabel='vitesse v (m/s)', xlim=(0, t[-1]))\n",
      "plot(t, y[:,0])\n",
      "hlines(v_min, 0, t[-1], color='g', linestyles='dashed')\n",
      "plot(t[imax], y[imax,0], 'rD')\n",
      "\n",
      "subplot(412, ylabel='position x (m)', xlim=(0, t[-1]))\n",
      "plot(t, y[:,1])\n",
      "plot(t[imax], y[imax,1], 'rD')\n",
      "\n",
      "subplot(413, ylabel='adjoint p1 (kg.m/s)', xlim=(0, t[-1]))\n",
      "plot(t, y[:,2])\n",
      "plot(t[imax], y[imax,2], 'rD')\n",
      "\n",
      "subplot(414, ylabel='adjoint p2 (N)', xlim=(0, t[-1]),\n",
      "             xlabel='temps (s)')\n",
      "plot(t, y[:,3])\n",
      "plot(t[imax], y[imax,3], 'rD')"
     ],
     "language": "python",
     "metadata": {},
     "outputs": [
      {
       "output_type": "pyout",
       "prompt_number": 243,
       "text": [
        "[<matplotlib.lines.Line2D at 0x7f7c57a78a10>]"
       ]
      },
      {
       "output_type": "display_data",
       "png": "[encoded data removed]"
      }
     ],
     "prompt_number": 243
    },
    {
     "cell_type": "code",
     "collapsed": false,
     "input": [],
     "language": "python",
     "metadata": {},
     "outputs": []
    }
   ],
   "metadata": {}
  }
 ]
}