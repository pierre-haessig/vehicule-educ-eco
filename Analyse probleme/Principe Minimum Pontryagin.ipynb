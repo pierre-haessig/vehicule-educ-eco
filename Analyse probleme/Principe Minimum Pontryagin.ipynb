{
 "metadata": {
  "name": "Contr\u00f4le Optimal"
 },
 "nbformat": 3,
 "nbformat_minor": 0,
 "worksheets": [
  {
   "cells": [
    {
     "cell_type": "heading",
     "level": 1,
     "metadata": {},
     "source": [
      "Contr\u00f4le optimal du v\u00e9hicule Educ Eco"
     ]
    },
    {
     "cell_type": "markdown",
     "metadata": {},
     "source": [
      "(tentative) d'application du **principe du Minimum de Pontryagin** pour trouver une trajectoire de vitesse optimale\n",
      "\n",
      "Pierre Haessig - 11 d\u00e9cembre 2012"
     ]
    },
    {
     "cell_type": "code",
     "collapsed": false,
     "input": [
      "%load_ext sympyprinting\n",
      "from sympy import *\n",
      "from IPython.core.display import display, display_latex"
     ],
     "language": "python",
     "metadata": {},
     "outputs": [],
     "prompt_number": 28
    },
    {
     "cell_type": "code",
     "collapsed": false,
     "input": [
      "# Variables\n",
      "t, dt, T = symbols('t dt T')\n",
      "l, dl, L = symbols('l dl L')\n",
      "v, u = symbols('v f_{mot}') \n",
      "p1, p2 = symbols('p_1 p_2')\n",
      "# Parameters\n",
      "# m: masse en kg\n",
      "# gam: acc\u00e9l\u00e9ration de la pesanteur en m/s\u00b2\n",
      "# fr: force de frottement des pneus en N\n",
      "# c: coefficient de frottement a\u00e9rodyn, en N/(m/s)\u00b2\n",
      "# a: coeff de perte moteur: en W/N\u00b2\n",
      "m, gam, fr, c, a = symbols('m gamma f_r c a')\n",
      "# Functions:\n",
      "#f1, f2, g, H = symbols('f_1 f_2 g H')\n",
      "s = symbols('s', cls=Function) # s = slope = dz/dl [en m/m]"
     ],
     "language": "python",
     "metadata": {},
     "outputs": [],
     "prompt_number": 141
    },
    {
     "cell_type": "code",
     "collapsed": false,
     "input": [
      "def disp_eq(a,b):\n",
      "    '''Latex display of a=b equality'''\n",
      "    display_latex(r'$$ %s = %s $$' % (a, latex(b)), raw=True)\n",
      "disp_eq('a', a)"
     ],
     "language": "python",
     "metadata": {},
     "outputs": [
      {
       "latex": [
        "$$ a = a $$"
       ],
       "output_type": "display_data"
      }
     ],
     "prompt_number": 222
    },
    {
     "cell_type": "markdown",
     "metadata": {},
     "source": [
      "---"
     ]
    },
    {
     "cell_type": "heading",
     "level": 2,
     "metadata": {},
     "source": [
      "1) Cas d'une mod\u00e9lisation fonction de l'abscisse curviligne"
     ]
    },
    {
     "cell_type": "markdown",
     "metadata": {},
     "source": [
      "**1.a) Description du syst\u00e8me : dynamique et co\u00fbt**\n",
      "\n",
      "vecteur d'\u00e9tat : $x(l) = v(l), t(l)$, cad vitesse et temps de passage\n",
      "\n",
      "avec *conditions initiales*:\n",
      "\n",
      "* $v(0)=v_0$ (par exemple $v(0)=0$ pour un d\u00e9part arr\u00eat\u00e9)\n",
      "* $t(0)=0$ (d\u00e9marrage du chrono)\n",
      "\n",
      "et *condition finale* :\n",
      "\n",
      "* $t(L)=T_{max}$ (avec $L/T_{max}$ = 30 km/h )\n",
      "\n",
      "par contre la vitesse finale $v(L)$ est libre"
     ]
    },
    {
     "cell_type": "code",
     "collapsed": false,
     "input": [
      "# dv/dl [en 1/s]\n",
      "f1 = 1/(m*v)*(u - fr - c*v**2 - m*gam*s(l))\n",
      "# note : m*v s'exprime en N.s\n",
      "disp_eq(r'\\frac{dv}{dl}', f1)"
     ],
     "language": "python",
     "metadata": {},
     "outputs": [
      {
       "latex": [
        "$$ \\frac{dv}{dl} = \\frac{- c v^{2} - f_{r} + f_{{mot}} - \\gamma m \\operatorname{s}\\left(l\\right)}{m v} $$"
       ],
       "output_type": "display_data"
      }
     ],
     "prompt_number": 326
    },
    {
     "cell_type": "code",
     "collapsed": false,
     "input": [
      "# dt/dl [en s/m]\n",
      "f2 = 1/v\n",
      "disp_eq(r'\\frac{dt}{dl}', f2)"
     ],
     "language": "python",
     "metadata": {},
     "outputs": [
      {
       "latex": [
        "$$ \\frac{dt}{dl} = \\frac{1}{v} $$"
       ],
       "output_type": "display_data"
      }
     ],
     "prompt_number": 327
    },
    {
     "cell_type": "code",
     "collapsed": false,
     "input": [
      "# Fonction co\u00fbt instantann\u00e9 en [N]\n",
      "g = u + a*u**2/v\n",
      "disp_eq(r'g(x,u)', g)"
     ],
     "language": "python",
     "metadata": {},
     "outputs": [
      {
       "latex": [
        "$$ g(x,u) = \\frac{a f_{{mot}}^{2}}{v} + f_{{mot}} $$"
       ],
       "output_type": "display_data"
      }
     ],
     "prompt_number": 328
    },
    {
     "cell_type": "markdown",
     "metadata": {},
     "source": [
      "**1.b) Hamiltonien**\n",
      "\n",
      " $$H(x,u,p) = g(x,u) + p\\cdot f(x,u)$$\n",
      "\n",
      "Ici, l'Hamiltonien s'exprime en J/m cad en Newton (force)"
     ]
    },
    {
     "cell_type": "code",
     "collapsed": false,
     "input": [
      "# Hamiltonien: H(x, u, p) = g + p.f\n",
      "H = g + (p1*f1 + p2*f2)\n",
      "disp_eq(r'H(x,u,p)', H)"
     ],
     "language": "python",
     "metadata": {},
     "outputs": [
      {
       "latex": [
        "$$ H(x,u,p) = \\frac{a f_{{mot}}^{2}}{v} + f_{{mot}} + \\frac{p_{2}}{v} + \\frac{p_{1} \\left(- c v^{2} - f_{r} + f_{{mot}} - \\gamma m \\operatorname{s}\\left(l\\right)\\right)}{m v} $$"
       ],
       "output_type": "display_data"
      }
     ],
     "prompt_number": 329
    },
    {
     "cell_type": "markdown",
     "metadata": {},
     "source": [
      "Note sur les unit\u00e9s des \u00e9tats adjoints:\n",
      "\n",
      "\n",
      "* si $[p_1 . f_1] = N$, c'est que $[p_1] = N.s = kg.m/s$ (cad une \"impulsion\", \"momentum\")\n",
      "* si $[p_2 . f_2] = N$, c'est que $[p_2] = N.m/s = W$ (cad une \"puissance\")"
     ]
    },
    {
     "cell_type": "markdown",
     "metadata": {},
     "source": [
      "**1.c) \u00c9quations adjointes**\n",
      "\n",
      "$$\\frac{dp}{dl} = -\\nabla_x H(x,u,p) $$\n",
      "\n",
      "(2 \u00e9quations)\n",
      "\n",
      "avec une *condition finale*\n",
      "\n",
      "* $p_1(L) = 0$"
     ]
    },
    {
     "cell_type": "code",
     "collapsed": false,
     "input": [
      "# dp1/dl = -dH/dv [N/(m/s)]\n",
      "f3 = -H.diff(v)\n",
      "disp_eq(r'\\frac{dp_1}{dl}',f3)"
     ],
     "language": "python",
     "metadata": {},
     "outputs": [
      {
       "latex": [
        "$$ \\frac{dp_1}{dl} = \\frac{a f_{{mot}}^{2}}{v^{2}} + 2 \\frac{c p_{1}}{m} + \\frac{p_{2}}{v^{2}} + \\frac{p_{1} \\left(- c v^{2} - f_{r} + f_{{mot}} - \\gamma m \\operatorname{s}\\left(l\\right)\\right)}{m v^{2}} $$"
       ],
       "output_type": "display_data"
      }
     ],
     "prompt_number": 330
    },
    {
     "cell_type": "code",
     "collapsed": false,
     "input": [
      "# dp2/dl = -dH/dt [N/s]\n",
      "f4 = -H.diff(t)\n",
      "disp_eq(r'\\frac{dp_2}{dl}',f4)"
     ],
     "language": "python",
     "metadata": {},
     "outputs": [
      {
       "latex": [
        "$$ \\frac{dp_2}{dl} = 0 $$"
       ],
       "output_type": "display_data"
      }
     ],
     "prompt_number": 331
    },
    {
     "cell_type": "code",
     "collapsed": false,
     "input": [
      "# dp0/dl = -dH/dl [N/m]\n",
      "disp_eq(r'\\frac{dp_0}{dt} = -\\frac{dH}{dl}',-H.diff(l))"
     ],
     "language": "python",
     "metadata": {},
     "outputs": [
      {
       "latex": [
        "$$ \\frac{dp_0}{dt} = -\\frac{dH}{dl} = \\frac{\\gamma p_{1} \\frac{\\partial}{\\partial l} \\operatorname{s}\\left(l\\right)}{v} $$"
       ],
       "output_type": "display_data"
      }
     ],
     "prompt_number": 332
    },
    {
     "cell_type": "markdown",
     "metadata": {},
     "source": [
      "**Remarque** :\n",
      "\n",
      "Comme le syst\u00e8me (exprim\u00e9 spatialement) n'est *pas stationnaire*, l'Hamiltonien n'est *pas constant sur la trajectoire optimale*."
     ]
    },
    {
     "cell_type": "markdown",
     "metadata": {},
     "source": [
      "**1d) Contr\u00f4le optimal**\n",
      "\n",
      "$u^*$ obtenu par l'annulation de dH/du\n",
      "\n",
      "On r\u00e9cup\u00e8re $u^*(x,p)$"
     ]
    },
    {
     "cell_type": "code",
     "collapsed": false,
     "input": [
      "disp_eq(r'\\frac{dH}{du}', H.diff(u))\n",
      "u_opt = solve(H.diff(u),u)[0]\n",
      "disp_eq(r'u^*(x,p)', u_opt)"
     ],
     "language": "python",
     "metadata": {},
     "outputs": [
      {
       "latex": [
        "$$ \\frac{dH}{du} = 2 \\frac{a f_{{mot}}}{v} + 1 + \\frac{p_{1}}{m v} $$"
       ],
       "output_type": "display_data"
      },
      {
       "latex": [
        "$$ u^*(x,p) = - \\frac{m v + p_{1}}{2 a m} $$"
       ],
       "output_type": "display_data"
      }
     ],
     "prompt_number": 333
    },
    {
     "cell_type": "code",
     "collapsed": false,
     "input": [
      "# State and adjoint equations:\n",
      "disp_eq(r'\\frac{dv^*}{dl}',f1.subs(u, u_opt))\n",
      "disp_eq(r'\\frac{dx^*}{dl}',f2.subs(u, u_opt))\n",
      "disp_eq(r'\\frac{dp_1}{dl}',f3.subs(u, u_opt))\n",
      "disp_eq(r'\\frac{dp_2}{dl}',f4.subs(u, u_opt))"
     ],
     "language": "python",
     "metadata": {},
     "outputs": [
      {
       "latex": [
        "$$ \\frac{dv^*}{dl} = \\frac{- c v^{2} - f_{r} - \\gamma m \\operatorname{s}\\left(l\\right) - \\frac{m v + p_{1}}{2 a m}}{m v} $$"
       ],
       "output_type": "display_data"
      },
      {
       "latex": [
        "$$ \\frac{dx^*}{dl} = \\frac{1}{v} $$"
       ],
       "output_type": "display_data"
      },
      {
       "latex": [
        "$$ \\frac{dp_1}{dl} = 2 \\frac{c p_{1}}{m} + \\frac{p_{2}}{v^{2}} + \\frac{p_{1} \\left(- c v^{2} - f_{r} - \\gamma m \\operatorname{s}\\left(l\\right) - \\frac{m v + p_{1}}{2 a m}\\right)}{m v^{2}} + \\frac{\\left(m v + p_{1}\\right)^{2}}{4 a m^{2} v^{2}} $$"
       ],
       "output_type": "display_data"
      },
      {
       "latex": [
        "$$ \\frac{dp_2}{dl} = 0 $$"
       ],
       "output_type": "display_data"
      }
     ],
     "prompt_number": 334
    },
    {
     "cell_type": "code",
     "collapsed": false,
     "input": [
      "# Hamiltonien avec u* substitu\u00e9\n",
      "disp_eq(r'H(x^*, p^*)', H.subs(u, u_opt))"
     ],
     "language": "python",
     "metadata": {},
     "outputs": [
      {
       "latex": [
        "$$ H(x^*, p^*) = \\frac{p_{2}}{v} + \\frac{p_{1} \\left(- c v^{2} - f_{r} - \\gamma m \\operatorname{s}\\left(l\\right) - \\frac{m v + p_{1}}{2 a m}\\right)}{m v} - \\frac{m v + p_{1}}{2 a m} + \\frac{\\left(m v + p_{1}\\right)^{2}}{4 a m^{2} v} $$"
       ],
       "output_type": "display_data"
      }
     ],
     "prompt_number": 335
    },
    {
     "cell_type": "markdown",
     "metadata": {},
     "source": [
      "---"
     ]
    },
    {
     "cell_type": "heading",
     "level": 2,
     "metadata": {},
     "source": [
      "2) Cas d'une mod\u00e9lisation fonction du temps"
     ]
    },
    {
     "cell_type": "markdown",
     "metadata": {},
     "source": [
      "**2.a) Description du syst\u00e8me : dynamique et co\u00fbt**\n",
      "\n",
      "vecteur d'\u00e9tat, fonction du temps $t$ : $x(t) = v(t), l(t)$, cad vitesse et abcisse curviligne\n",
      "\n",
      "avec *conditions initiales*\n",
      "\n",
      "* $v(0)=v_0$ \u00e0 choisir (par exemple $v(0)=0$ pour un d\u00e9part arr\u00eat\u00e9)\n",
      "* $l(0) = 0$\n",
      "\n",
      "et *condition finale*\n",
      "\n",
      "* $ l(T_{max}) = L$"
     ]
    },
    {
     "cell_type": "code",
     "collapsed": false,
     "input": [
      "# dv/dt = 1/m * Somme(forces) en [N/kg = m/s\u00b2]\n",
      "f1 = (1/m)*(u - fr - c*v**2 - m*gam*s(l))\n",
      "disp_eq(r'\\frac{dv}{dt}', f1)"
     ],
     "language": "python",
     "metadata": {},
     "outputs": [
      {
       "latex": [
        "$$ \\frac{dv}{dt} = \\frac{- c v^{2} - f_{r} + f_{{mot}} - \\gamma m \\operatorname{s}\\left(l\\right)}{m} $$"
       ],
       "output_type": "display_data"
      }
     ],
     "prompt_number": 336
    },
    {
     "cell_type": "code",
     "collapsed": false,
     "input": [
      "# dl/dt en [m/s]\n",
      "f2 = v\n",
      "disp_eq(r'\\frac{dl}{dt}', f2)"
     ],
     "language": "python",
     "metadata": {},
     "outputs": [
      {
       "latex": [
        "$$ \\frac{dl}{dt} = v $$"
       ],
       "output_type": "display_data"
      }
     ],
     "prompt_number": 337
    },
    {
     "cell_type": "code",
     "collapsed": false,
     "input": [
      "# Fonction co\u00fbt instantann\u00e9 en [W]\n",
      "g = u*v + a*u**2\n",
      "disp_eq(r'g(x,u)', g)"
     ],
     "language": "python",
     "metadata": {},
     "outputs": [
      {
       "latex": [
        "$$ g(x,u) = a f_{{mot}}^{2} + f_{{mot}} v $$"
       ],
       "output_type": "display_data"
      }
     ],
     "prompt_number": 338
    },
    {
     "cell_type": "markdown",
     "metadata": {},
     "source": [
      "**2.b) Hamiltonien**\n",
      "\n",
      " $$H(x,u,p) = g(x,u) + p\\cdot f(x,u)$$\n",
      "\n",
      "Ici, l'Hamiltonien s'exprime en W (puissance)"
     ]
    },
    {
     "cell_type": "code",
     "collapsed": false,
     "input": [
      "# Hamiltonien: H(x, u, p) = g + p.f\n",
      "H = g + (p1*f1 + p2*f2)\n",
      "disp_eq(r'H(x,u,p)', H)"
     ],
     "language": "python",
     "metadata": {},
     "outputs": [
      {
       "latex": [
        "$$ H(x,u,p) = a f_{{mot}}^{2} + f_{{mot}} v + p_{2} v + \\frac{p_{1} \\left(- c v^{2} - f_{r} + f_{{mot}} - \\gamma m \\operatorname{s}\\left(l\\right)\\right)}{m} $$"
       ],
       "output_type": "display_data"
      }
     ],
     "prompt_number": 339
    },
    {
     "cell_type": "markdown",
     "metadata": {},
     "source": [
      "Note sur les unit\u00e9s des \u00e9tats adjoints:\n",
      "\n",
      "\n",
      "* si $[p_1 . f_1] = W$, c'est que $[p_1] = W.kg/N = kg.m/s$ (cad une \"impulsion\", \"momentum\")\n",
      "* si $[p_2 . f_2] = W$, c'est que $[p_2] = W.s/m = N$ (cad une \"force\")"
     ]
    },
    {
     "cell_type": "markdown",
     "metadata": {},
     "source": [
      "**2c) \u00c9quations adjointes**\n",
      "\n",
      "$$\\frac{dp}{dt} = -\\nabla_x H(x,u,p) $$\n",
      "\n",
      "(2 \u00e9quations)\n",
      "\n",
      "avec une *condition finale*\n",
      "\n",
      "* $p_1(T_{max}) = 0$"
     ]
    },
    {
     "cell_type": "code",
     "collapsed": false,
     "input": [
      "# dp1/dt = -dH/dv [N]\n",
      "f3 = -H.diff(v)\n",
      "disp_eq(r'\\frac{dp_1}{dt}',f3)"
     ],
     "language": "python",
     "metadata": {},
     "outputs": [
      {
       "latex": [
        "$$ \\frac{dp_1}{dt} = 2 \\frac{c p_{1} v}{m} - f_{{mot}} - p_{2} $$"
       ],
       "output_type": "display_data"
      }
     ],
     "prompt_number": 340
    },
    {
     "cell_type": "code",
     "collapsed": false,
     "input": [
      "# dp2/dt = -dH/dl [W/m=N/s]\n",
      "f4 = -H.diff(l)\n",
      "disp_eq(r'\\frac{dp_2}{dt}',f4)"
     ],
     "language": "python",
     "metadata": {},
     "outputs": [
      {
       "latex": [
        "$$ \\frac{dp_2}{dt} = \\gamma p_{1} \\frac{\\partial}{\\partial l} \\operatorname{s}\\left(l\\right) $$"
       ],
       "output_type": "display_data"
      }
     ],
     "prompt_number": 341
    },
    {
     "cell_type": "code",
     "collapsed": false,
     "input": [
      "# dp0/dt = -dH/dt [W/s]\n",
      "disp_eq(r'\\frac{dp_0}{dt}=-\\frac{dH}{dt}',-H.diff(t))"
     ],
     "language": "python",
     "metadata": {},
     "outputs": [
      {
       "latex": [
        "$$ \\frac{dp_0}{dt}=-\\frac{dH}{dt} = 0 $$"
       ],
       "output_type": "display_data"
      }
     ],
     "prompt_number": 342
    },
    {
     "cell_type": "markdown",
     "metadata": {},
     "source": [
      "**Remarque**\n",
      "\n",
      "Comme le syst\u00e8me (exprim\u00e9 temporellement) est *stationnaire*, on constate que l'Hamiltonien est *constant sur la trajectoire optimale*.\n",
      "\n",
      "$ H(x^* (t), u^* (t), p(t)) = C$, pour tout $t \\in [0, T_{max}]$\n",
      "\n",
      "et la constante $C$ est \u00e0 d\u00e9terminer.\n",
      "\n",
      "**Remarque 2**\n",
      "\n",
      "Dans tous les cas, $ H(x^* (t), u^* (t), p(t)) = - \\nabla_t J^*(t,x^\\star(t)) = -p_0(t) $"
     ]
    },
    {
     "cell_type": "markdown",
     "metadata": {},
     "source": [
      "**2d) Contr\u00f4le optimal**\n",
      "\n",
      "$u^*$ obtenu par l'annulation de $\\frac{dH}{du}$\n",
      "\n",
      "On r\u00e9cup\u00e8re $u^*(x,p)$"
     ]
    },
    {
     "cell_type": "code",
     "collapsed": false,
     "input": [
      "disp_eq(r'\\frac{dH}{du}', H.diff(u))\n",
      "u_opt = solve(H.diff(u),u)[0]\n",
      "disp_eq(r'u^*(x,p)', u_opt)"
     ],
     "language": "python",
     "metadata": {},
     "outputs": [
      {
       "latex": [
        "$$ \\frac{dH}{du} = 2 a f_{{mot}} + v + \\frac{p_{1}}{m} $$"
       ],
       "output_type": "display_data"
      },
      {
       "latex": [
        "$$ u^*(x,p) = - \\frac{m v + p_{1}}{2 a m} $$"
       ],
       "output_type": "display_data"
      }
     ],
     "prompt_number": 343
    },
    {
     "cell_type": "code",
     "collapsed": false,
     "input": [
      "# State and adjoint equations:\n",
      "disp_eq(r'\\frac{dv^*}{dt}',f1.subs(u, u_opt))\n",
      "disp_eq(r'\\frac{dx^*}{dt}',f2.subs(u, u_opt))\n",
      "disp_eq(r'\\frac{dp_1}{dt}',f3.subs(u, u_opt))\n",
      "disp_eq(r'\\frac{dp_2}{dt}',f4.subs(u, u_opt))"
     ],
     "language": "python",
     "metadata": {},
     "outputs": [
      {
       "latex": [
        "$$ \\frac{dv^*}{dt} = \\frac{- c v^{2} - f_{r} - \\gamma m \\operatorname{s}\\left(l\\right) - \\frac{m v + p_{1}}{2 a m}}{m} $$"
       ],
       "output_type": "display_data"
      },
      {
       "latex": [
        "$$ \\frac{dx^*}{dt} = v $$"
       ],
       "output_type": "display_data"
      },
      {
       "latex": [
        "$$ \\frac{dp_1}{dt} = 2 \\frac{c p_{1} v}{m} - p_{2} + \\frac{m v + p_{1}}{2 a m} $$"
       ],
       "output_type": "display_data"
      },
      {
       "latex": [
        "$$ \\frac{dp_2}{dt} = \\gamma p_{1} \\frac{\\partial}{\\partial l} \\operatorname{s}\\left(l\\right) $$"
       ],
       "output_type": "display_data"
      }
     ],
     "prompt_number": 344
    },
    {
     "cell_type": "code",
     "collapsed": false,
     "input": [
      "# Hamiltonien\n",
      "disp_eq(r'H(x^*, p^*)=C', H.subs(u, u_opt))"
     ],
     "language": "python",
     "metadata": {},
     "outputs": [
      {
       "latex": [
        "$$ H(x^*, p^*)=C = p_{2} v + \\frac{p_{1} \\left(- c v^{2} - f_{r} - \\gamma m \\operatorname{s}\\left(l\\right) - \\frac{m v + p_{1}}{2 a m}\\right)}{m} - \\frac{v \\left(m v + p_{1}\\right)}{2 a m} + \\frac{\\left(m v + p_{1}\\right)^{2}}{4 a m^{2}} $$"
       ],
       "output_type": "display_data"
      }
     ],
     "prompt_number": 345
    },
    {
     "cell_type": "code",
     "collapsed": false,
     "input": [],
     "language": "python",
     "metadata": {},
     "outputs": []
    }
   ],
   "metadata": {}
  }
 ]
}